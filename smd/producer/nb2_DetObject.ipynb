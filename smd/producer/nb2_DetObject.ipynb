{
 "cells": [
  {
   "cell_type": "code",
   "execution_count": null,
   "id": "0cd76591-a2c8-410e-a149-9cefbd65d90d",
   "metadata": {},
   "outputs": [],
   "source": [
    "import numpy as np\n",
    "import holoviews as hv\n",
    "hv.extension('bokeh')\n",
    "import panel as pn\n",
    "from tqdm import tqdm\n",
    "import h5py as h5\n",
    "from pathlib import Path\n",
    "import tables\n",
    "import sys\n",
    "from importlib import reload\n",
    "\n",
    "import psana as ps\n",
    "sys.path.append('/sdf/group/lcls/ds/tools/smalldata_tools/latest')\n",
    "from smalldata_tools.DetObject import DetObject, DetObjectFunc\n",
    "from smalldata_tools.ana_funcs.azimuthalBinning import azimuthalBinning\n",
    "\n",
    "from smalldata_tools.SmallDataUtils import setParameter, getUserData, getUserEnvData\n",
    "\n",
    "from smalldata_tools.utilities_plotting import hv_image_ctl\n",
    "from smalldata_tools.utilities_plotting import hv_image\n",
    "from smalldata_tools.utilities import image_from_dxy\n",
    "\n",
    "run = 320\n",
    "exp = 'xpptut15'\n",
    "\n",
    "dsname = 'exp={}:run={}'.format(exp,run,exp[:3],exp)\n",
    "ds = ps.MPIDataSource(dsname)\n",
    "\n",
    "#ds.detnames()"
   ]
  },
  {
   "cell_type": "code",
   "execution_count": null,
   "id": "a40c2f60-8b9e-4f29-a89c-63b224fb86af",
   "metadata": {},
   "outputs": [],
   "source": [
    "def asImg(data,ix,iy):\n",
    "    if data.ndim==2: return data\n",
    "    elif data.ndim==3:\n",
    "        return image_from_dxy(data,ix,iy)\n",
    "    elif data.ndim==4: #gain switching, slow lowest gain\n",
    "        return image_from_dxy(data[0],ix,iy)"
   ]
  },
  {
   "cell_type": "markdown",
   "id": "eca4810f-30bc-491b-bb3a-23a3f4b58c03",
   "metadata": {},
   "source": [
    "# Set detObject \n",
    "\n",
    "This is where the detector object is defined. Many relevant parameters for the detector are available and saved in the hdf5 file."
   ]
  },
  {
   "cell_type": "code",
   "execution_count": null,
   "id": "3af82eb4-d92f-42c2-b068-77643271c5f6",
   "metadata": {},
   "outputs": [],
   "source": [
    "det = DetObject('cspad', ds.env(), int(run))\n",
    "userDataCfg = det.params_as_dict()"
   ]
  },
  {
   "cell_type": "markdown",
   "id": "2f95e913",
   "metadata": {},
   "source": [
    "## Look at little at the detector 'configuration' information "
   ]
  },
  {
   "cell_type": "code",
   "execution_count": null,
   "id": "577661e5",
   "metadata": {},
   "outputs": [],
   "source": [
    "hrms = np.histogram(userDataCfg['rms'], np.arange(0.,10,0.1))\n",
    "hv.Points((hrms[1][1:], hrms[0])).options(width=800)"
   ]
  },
  {
   "cell_type": "code",
   "execution_count": null,
   "id": "ccf9d8b4-d376-4bdb-9011-0286f65cd389",
   "metadata": {},
   "outputs": [],
   "source": [
    "det_rms = userDataCfg['rms']\n",
    "hv_image_ctl(asImg(det_rms, userDataCfg['ix'],userDataCfg['iy']))"
   ]
  },
  {
   "cell_type": "markdown",
   "id": "860363d2-5f32-4b83-9453-868a57903e5f",
   "metadata": {},
   "source": [
    "# Set detObject and ana function\n",
    "\n",
    "This is where the detector and the analysis function are defined. Here we specify the 'LCLS' azimuthal averaging.\n",
    "Note that userDataCfg now also contains information about the function we have define to be run on the detector data!"
   ]
  },
  {
   "cell_type": "code",
   "execution_count": null,
   "id": "40fb11cd-0e2f-4827-9ca5-7fbb5659ea23",
   "metadata": {},
   "outputs": [],
   "source": [
    "det = DetObject('cspad', ds.env(), int(run))\n",
    "\n",
    "func_dict = {}\n",
    "func_dict['eBeam'] = 9.8\n",
    "func_dict['qbin'] = 0.05\n",
    "func_dict['thresADU'] = 7\n",
    "#func_dict['thresADUhigh'] = 17.5\n",
    "func_dict['pPlane'] = 0\n",
    "func_dict['center'] = [87392.2, -10126.4]\n",
    "func_dict['dis_to_sam'] = 90.\n",
    "#func_dict['phiBins'] = 5\n",
    "    \n",
    "func = azimuthalBinning(**func_dict)\n",
    "\n",
    "# add function to detector pipeline\n",
    "det.addFunc(func)\n",
    "\n",
    "userDataCfg = det.params_as_dict()"
   ]
  },
  {
   "cell_type": "code",
   "execution_count": null,
   "id": "3ea43b64-ca09-4cd8-aea0-c18702f842c7",
   "metadata": {},
   "outputs": [],
   "source": [
    "#run this on an event\n",
    "\n",
    "max_evt = 1\n",
    "ds.break_after(max_evt) # stop iteration after max_evt events (break statements do not work reliably with MPIDataSource).\n",
    "\n",
    "userDict = {}\n",
    "for nevt,evt in tqdm(enumerate(ds.events())):\n",
    "    det.getData(evt)\n",
    "        \n",
    "    det.processFuncs()\n",
    "    userDict[det._name]=getUserData(det)\n",
    "\n",
    "    #print(userDict)\n",
    "#print(userDataCfg)"
   ]
  },
  {
   "cell_type": "markdown",
   "id": "744a0348",
   "metadata": {},
   "source": [
    "## Look at the data \n",
    "det.getData will extract the data and add it as det.evt.dat object which can be passed to DetObjectFunc objects (next noteboook)"
   ]
  },
  {
   "cell_type": "code",
   "execution_count": null,
   "id": "55744336",
   "metadata": {},
   "outputs": [],
   "source": [
    "print('Detector data shape:', det.evt.dat.shape)"
   ]
  },
  {
   "cell_type": "markdown",
   "id": "dcab01c0",
   "metadata": {},
   "source": [
    "## Plot the detector data "
   ]
  },
  {
   "cell_type": "code",
   "execution_count": null,
   "id": "2fc3a59f-d7f7-46da-85de-ea5a28a55969",
   "metadata": {},
   "outputs": [],
   "source": [
    "det_evt_thres = det.evt.dat.copy()\n",
    "thresADU = 7\n",
    "det_evt_thres[det.evt.dat<thresADU]=0 \n",
    "\n",
    "\n",
    "\n",
    "hv_image_ctl(asImg(det_evt_thres,userDataCfg['ix'],userDataCfg['iy']))"
   ]
  },
  {
   "cell_type": "markdown",
   "id": "e27d1139-c225-407c-abed-68b676c2e721",
   "metadata": {},
   "source": [
    "## Plot the result of the DetObjectFunc (the azimuthal average in this case)"
   ]
  },
  {
   "cell_type": "code",
   "execution_count": null,
   "id": "d3317d6c-b47d-40a3-b425-ed06adde0984",
   "metadata": {},
   "outputs": [],
   "source": [
    "hv.Points((0.5*(userDataCfg['azav__azav_qbins'][:-1]+userDataCfg['azav__azav_qbins'][1:]),\\\n",
    "           userDict['cspad']['azav_azav'].sum(axis=0))).options(width=800)"
   ]
  }
 ],
 "metadata": {
  "kernelspec": {
   "display_name": "Python 3 (ipykernel)",
   "language": "python",
   "name": "python3"
  },
  "language_info": {
   "codemirror_mode": {
    "name": "ipython",
    "version": 3
   },
   "file_extension": ".py",
   "mimetype": "text/x-python",
   "name": "python",
   "nbconvert_exporter": "python",
   "pygments_lexer": "ipython3",
   "version": "3.9.15"
  }
 },
 "nbformat": 4,
 "nbformat_minor": 5
}
