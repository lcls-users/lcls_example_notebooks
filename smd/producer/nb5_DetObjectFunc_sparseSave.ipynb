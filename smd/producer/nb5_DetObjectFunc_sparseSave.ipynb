{
 "cells": [
  {
   "cell_type": "markdown",
   "id": "082715cd-6375-4344-8114-ed34ee177dae",
   "metadata": {},
   "source": [
    "## Storing droplets/photons\n",
    "\n",
    "The number of photons found in each event will differ. You will make to make a choice how to best save this data in an hdf5 file. \n",
    "Here, we dropletize/photons an epix100. We can store \n",
    "* zero-padded data to create a rectangular array\n",
    "* store vlen datasets (require a loop in the 'consumer' code)\n",
    "* store photons in 'flat' arrays"
   ]
  },
  {
   "cell_type": "code",
   "execution_count": null,
   "id": "27f36024",
   "metadata": {},
   "outputs": [],
   "source": [
    "import numpy as np\n",
    "import holoviews as hv\n",
    "hv.extension('bokeh')\n",
    "from tqdm import tqdm\n",
    "import h5py as h5\n",
    "from pathlib import Path\n",
    "import tables\n",
    "import sys\n",
    "from importlib import reload\n",
    "\n",
    "import psana as ps\n",
    "sys.path.append('/sdf/group/lcls/ds/tools/smalldata_tools/latest')\n",
    "from smalldata_tools.DetObject import DetObject, DetObjectFunc\n",
    "from smalldata_tools.ana_funcs.sparsifyFunc import sparsifyFunc#, unsparsifyFunc\n",
    "from smalldata_tools.ana_funcs.droplet import dropletFunc\n",
    "\n",
    "from smalldata_tools.SmallDataUtils import setParameter, getUserData, getUserEnvData\n",
    "\n",
    "from smalldata_tools.utilities_plotting import hv_image_ctl\n",
    "from smalldata_tools.utilities_plotting import hv_image\n",
    "from smalldata_tools.utilities import image_from_dxy\n",
    "\n",
    "# Exp and run, get datasource\n",
    "\n",
    "run = 630 #4 & 11.4 keV background\n",
    "exp = 'xpptut15'\n",
    "\n",
    "dsname = 'exp={}:run={}'.format(exp,run,exp[:3],exp)\n",
    "\n",
    "ds = ps.MPIDataSource(dsname)\n",
    "#dets = ds.detnames('epics')\n",
    "#ds.detnames()\n",
    "\n",
    "detname = 'epix_alc1' #epix100 w/ beamstop\n",
    "photE=166.\n",
    "det = DetObject(detname, ds.env(), int(run)) #epix100 w/ beamstop"
   ]
  },
  {
   "cell_type": "markdown",
   "id": "e4c22a8e",
   "metadata": {},
   "source": [
    "# Run the analysis on a few shots\n",
    "Here we define a few different versions to sparsify the droplet output which is necessary to save the output in the hdf5 file."
   ]
  },
  {
   "cell_type": "code",
   "execution_count": null,
   "id": "5d15728d",
   "metadata": {},
   "outputs": [],
   "source": [
    "func_dict = {}\n",
    "func_dict['threshold'] = 3.\n",
    "func_dict['thresholdLow'] = 1.\n",
    "func_dict['thresADU'] = 4.\n",
    "func = dropletFunc(**func_dict)\n",
    "\n",
    "sfunca = sparsifyFunc(nData=15000) #'rectangular array'\n",
    "sfuncb = sparsifyFunc(nData=0, name='ragged') #saves data as ragged array / vlen data: loop needed to read!\n",
    "sfuncc = sparsifyFunc(name='var') #saves data in a flat array\n",
    "func.addFunc(sfunca)\n",
    "func.addFunc(sfuncb)\n",
    "func.addFunc(sfuncc)\n",
    "\n",
    "# add function to detector pipeline\n",
    "det.addFunc(func)\n",
    "\n",
    "userDataCfg = det.params_as_dict()\n",
    "userDict = {}\n",
    "\n",
    "small_data = ds.small_data('./UserMtg_photon_sparse.h5', gather_interval=5)\n",
    "    \n",
    "max_evt = 5\n",
    "ds.break_after(max_evt) # stop iteration after max_evt events (break statements do not work reliably with MPIDataSource).\n",
    "for nevt,evt in tqdm(enumerate(ds.events())):        \n",
    "    det.getData(evt)\n",
    "    det.processFuncs()\n",
    "    userDict[det._name]=getUserData(det)\n",
    "\n",
    "    small_data.event(userDict)\n",
    "        \n",
    "small_data.close()\n",
    "\n",
    "#dat_p = tables.open_file('./UserMtg_photon_sparse.h5').root\n",
    "#print(userDict[detname].keys())"
   ]
  },
  {
   "cell_type": "code",
   "execution_count": null,
   "id": "572343f8",
   "metadata": {},
   "outputs": [],
   "source": [
    "dat_p = tables.open_file('./UserMtg_photon_sparse.h5').root"
   ]
  },
  {
   "cell_type": "markdown",
   "id": "fbb2eddb",
   "metadata": {},
   "source": [
    "h5ls  UserMtg_photon_sparse.h5/epix_alc1\n",
    "### results from droplet\n",
    "droplet_nDroplets        Dataset {5/Inf} <br>\n",
    "droplet_nDroplets_all    Dataset {5/Inf}\n",
    "### sparsified output - 'rectangular'\n",
    "droplet_sparse_col       Dataset {5/Inf, 15000} <br>\n",
    "droplet_sparse_data      Dataset {5/Inf, 15000} <br>\n",
    "droplet_sparse_npix      Dataset {5/Inf, 15000} <br>\n",
    "droplet_sparse_row       Dataset {5/Inf, 15000} <br>\n",
    "droplet_sparse_tile      Dataset {5/Inf, 15000}\n",
    "\n",
    "Here, we fill arrays with zero so that we get proper arrays too read. But we need to make this deep enough to fit all droplets and then the data becomes big.\n",
    "By default, col & row are filled as integers to save space."
   ]
  },
  {
   "cell_type": "code",
   "execution_count": null,
   "id": "0f594f53",
   "metadata": {},
   "outputs": [],
   "source": [
    "print(dat_p.epix_alc1.droplet_sparse_col.read()[0][dat_p.epix_alc1.droplet_nDroplets.read()[0]-3:dat_p.epix_alc1.droplet_nDroplets.read()[0]+3])"
   ]
  },
  {
   "cell_type": "markdown",
   "id": "1a0bdf1e",
   "metadata": {},
   "source": [
    "## Ragged dataset - vlen\n",
    "### these are vlen arrays\n",
    "ragged_droplet_col       Dataset {5/Inf} <br>\n",
    "ragged_droplet_data      Dataset {5/Inf} <br>\n",
    "ragged_droplet_npix      Dataset {5/Inf} <br>\n",
    "ragged_droplet_row       Dataset {5/Inf} <br>\n",
    "ragged_droplet_tile      Dataset {5/Inf}\n",
    "\n",
    "As these are not 2-d arrays, you need to loop over each entry. python looop are not your friend if you care about CPU."
   ]
  },
  {
   "cell_type": "code",
   "execution_count": null,
   "id": "f2069941",
   "metadata": {},
   "outputs": [],
   "source": [
    "print(dat_p.epix_alc1.ragged_droplet_col.shape)\n",
    "print(dat_p.epix_alc1.ragged_droplet_col.read()[0].shape)\n",
    "dat_p.epix_alc1.ragged_droplet_col.read()"
   ]
  },
  {
   "cell_type": "code",
   "execution_count": null,
   "id": "77547d92",
   "metadata": {},
   "outputs": [],
   "source": [
    "dat_p.epix_alc1.ragged_droplet_col.shape"
   ]
  },
  {
   "cell_type": "markdown",
   "id": "8dca4315",
   "metadata": {},
   "source": [
    "## Flat dataset\n",
    "### these are from the flat array, _len is the counter\n",
    "var_droplet              Group <br>\n",
    "var_droplet_len          Dataset {5/Inf}\n",
    "#### content of the flat dataset.\n",
    "h5ls  UserMtg_photon_sparse.h5/epix_alc1/var_droplet \n",
    "col                      Dataset {50203/Inf} <br>\n",
    "data                     Dataset {50203/Inf} <br>\n",
    "npix                     Dataset {50203/Inf} <br>\n",
    "row                      Dataset {50203/Inf} <br>\n",
    "tile                     Dataset {50203/Inf}"
   ]
  },
  {
   "cell_type": "code",
   "execution_count": null,
   "id": "07858ad6",
   "metadata": {},
   "outputs": [],
   "source": [
    "print(dat_p.epix_alc1.var_droplet_len.read())\n",
    "print(dat_p.epix_alc1.var_droplet_len.read().sum(), dat_p.epix_alc1.var_droplet.col.shape)\n",
    "print(dat_p.epix_alc1.var_droplet.col.read())"
   ]
  },
  {
   "cell_type": "markdown",
   "id": "a768a343-f9e8-4d40-8db6-c1dc3411324d",
   "metadata": {},
   "source": [
    "## Get data for a given event out of the flat array\n",
    "Here, we pick the 4th event and show the image created from the droplet data."
   ]
  },
  {
   "cell_type": "code",
   "execution_count": null,
   "id": "c171ab6f-1487-4ae3-a217-7f0bcd42972f",
   "metadata": {},
   "outputs": [],
   "source": [
    "ndroplets = dat_p.epix_alc1.var_droplet_len.read()\n",
    "ndroplets_cumsum = np.append(np.array([0]),np.cumsum(ndroplets))"
   ]
  },
  {
   "cell_type": "code",
   "execution_count": null,
   "id": "7c6c503a-d243-41a5-8ccf-4511819fc844",
   "metadata": {},
   "outputs": [],
   "source": [
    "ievt=3\n",
    "outShape= (userDataCfg['imgShape'][0], userDataCfg['imgShape'][1])\n",
    "#photImg = image_from_dxy(dat_p.epix_alc1.var_droplet.data.read(ndroplets_cumsum[ievt], ndroplets_cumsum[ievt+1]).flatten(),\\\n",
    "#                         dat_p.epix_alc1.var_droplet.row.read(ndroplets_cumsum[ievt], ndroplets_cumsum[ievt+1]).flatten(),\\\n",
    "#                         dat_p.epix_alc1.var_droplet.col.read(ndroplets_cumsum[ievt], ndroplets_cumsum[ievt+1]).flatten(), outShape= outShape)\n",
    "from scipy import sparse\n",
    "d=dat_p.epix_alc1.var_droplet.data.read(ndroplets_cumsum[ievt], ndroplets_cumsum[ievt+1])\n",
    "ix=dat_p.epix_alc1.var_droplet.row.read(ndroplets_cumsum[ievt], ndroplets_cumsum[ievt+1])\n",
    "iy=dat_p.epix_alc1.var_droplet.col.read(ndroplets_cumsum[ievt], ndroplets_cumsum[ievt+1])\n",
    "photImg = np.asarray(sparse.coo_matrix((d.flatten(), (ix.flatten(), iy.flatten())), shape=outShape).todense())"
   ]
  },
  {
   "cell_type": "code",
   "execution_count": null,
   "id": "f57fc1a2-598b-410e-8bff-6f821149e471",
   "metadata": {},
   "outputs": [],
   "source": [
    "hv_image_ctl(photImg)"
   ]
  }
 ],
 "metadata": {
  "kernelspec": {
   "display_name": "Python 3 (ipykernel)",
   "language": "python",
   "name": "python3"
  },
  "language_info": {
   "codemirror_mode": {
    "name": "ipython",
    "version": 3
   },
   "file_extension": ".py",
   "mimetype": "text/x-python",
   "name": "python",
   "nbconvert_exporter": "python",
   "pygments_lexer": "ipython3",
   "version": "3.9.15"
  }
 },
 "nbformat": 4,
 "nbformat_minor": 5
}
