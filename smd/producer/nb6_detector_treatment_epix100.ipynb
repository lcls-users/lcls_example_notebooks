{
 "cells": [
  {
   "cell_type": "code",
   "execution_count": null,
   "id": "08937fd1-8911-4c59-862f-7a0af7b6eb45",
   "metadata": {},
   "outputs": [],
   "source": [
    "import psana\n",
    "import numpy as np\n",
    "import holoviews as hv\n",
    "from holoviews import dim\n",
    "hv.extension('bokeh')\n",
    "import panel as pn\n",
    "import sys\n",
    "sys.path.append('/sdf/group/lcls/ds/tools/smalldata_tools/latest/')\n",
    "from smalldata_tools.utilities_plotting import hv_image_ctl\n",
    "from smalldata_tools.utilities_plotting import hv_image\n",
    "\n",
    "import scipy.ndimage as ndi\n",
    "\n",
    "run = 631 \n",
    "exp = 'xpptut15'\n",
    "dsname = 'exp={}:run={}'.format(exp,run,exp[:3],exp)\n",
    "\n",
    "detname = 'epix_alc1'\n",
    "ds = psana.DataSource(dsname)\n",
    "det = psana.Detector('epix_alc1')\n",
    "\n",
    "ped = det.pedestals(run)\n",
    "rms = det.rms(run)\n",
    "gain = det.gain(run)\n",
    "\n",
    "for i in range(2):\n",
    "    event = next(ds.events())"
   ]
  },
  {
   "cell_type": "markdown",
   "id": "b5f9fb96",
   "metadata": {},
   "source": [
    "# We will now compare different calibration options for the epix100\n",
    "One is to use simple pedestal subtracted raw data, for the second option we add in the gain files determined by the detector group. In addition, we use two different methods to correct for common-mode noise which are described [here](https://confluence.slac.stanford.edu/display/PSDM/Common+mode+correction+algorithms#Commonmodecorrectionalgorithms-#4-MEDIANalgorithm-detectordependent)"
   ]
  },
  {
   "cell_type": "code",
   "execution_count": null,
   "id": "48f8caf3",
   "metadata": {},
   "outputs": [],
   "source": [
    "rawData = det.raw_data(event)\n",
    "pedSub=rawData-ped\n",
    "pedSubGain = pedSub*gain\n",
    "\n",
    "#median method EPIX common mode\n",
    "calib4 = det.calib(event, cmpars=(4,6,30,10))\n",
    "\n",
    "#median method with p\n",
    "calib6 = det.calib(event, cmpars=[6], rms=rms)\n",
    "\n",
    "pedSubHis = np.histogram(pedSub, np.arange(-10,250))\n",
    "pedSubGainHis = np.histogram(pedSubGain, np.arange(-10,250))\n",
    "cm4His = np.histogram(calib4, np.arange(-10,250))\n",
    "cm6His = np.histogram(calib6, np.arange(-10,250))\n",
    "\n",
    "img6_thres = calib6.copy()\n",
    "img6_thres[calib6<15]=0\n",
    "img6_thres[calib6>=15]=1\n",
    "img6_drop = ndi.label(img6_thres)\n",
    "\n",
    "img4_thres = calib4.copy()\n",
    "img4_thres[calib4<15]=0\n",
    "img4_thres[calib4>=15]=1\n",
    "img4_drop = ndi.label(img4_thres)\n",
    "\n",
    "imgp_thres = pedSub.copy()\n",
    "imgp_thres[pedSub<15]=0\n",
    "imgp_thres[pedSub>=15]=1\n",
    "imgp_drop = ndi.label(imgp_thres)\n",
    "\n",
    "imgpg_thres = pedSubGain.copy()\n",
    "imgpg_thres[pedSubGain<15]=0\n",
    "imgpg_thres[pedSubGain>=15]=1\n",
    "imgpg_drop = ndi.label(imgpg_thres)\n",
    "\n",
    "ndrops6 = np.arange(1,img6_drop[1]+1)\n",
    "ndrops4 = np.arange(1,img4_drop[1]+1)\n",
    "ndropsp = np.arange(1,imgp_drop[1]+1)\n",
    "ndropspg = np.arange(1,imgpg_drop[1]+1)\n",
    "\n",
    "adus6 = ndi.sum(calib6, img6_drop[0], ndrops6)\n",
    "adus4 = ndi.sum(calib4, img4_drop[0], ndrops4)\n",
    "adusp = ndi.sum(pedSub, imgp_drop[0], ndropsp)\n",
    "aduspg = ndi.sum(pedSubGain, imgpg_drop[0], ndropspg)\n",
    "\n",
    "adu4His = np.histogram(adus4, np.arange(-10,750))\n",
    "adu6His = np.histogram(adus6, np.arange(-10,750))\n",
    "adupHis = np.histogram(adusp, np.arange(-10,750))\n",
    "adupgHis = np.histogram(aduspg, np.arange(-10,750))"
   ]
  },
  {
   "cell_type": "markdown",
   "id": "2d82e516",
   "metadata": {},
   "source": [
    "This image has no common mode correction. You can see the rows&colums - this way, you cannot tell if this is a common mode or a pedestal problem. Using common mode correction also corrects for sub-ideal pedestals, but during operations it hides that pedestals start to shift. If yuo have pedestal shifts, the common mode is also no longer 'symmetric' around zero as we need to protect from using shifts introduced by signal from moving the pedestal."
   ]
  },
  {
   "cell_type": "code",
   "execution_count": null,
   "id": "b9b00154",
   "metadata": {},
   "outputs": [],
   "source": [
    "hv_image(pedSubGain)"
   ]
  },
  {
   "cell_type": "markdown",
   "id": "d5db4d64",
   "metadata": {},
   "source": [
    "## Pixel histograms of different treatments."
   ]
  },
  {
   "cell_type": "code",
   "execution_count": null,
   "id": "951422f2",
   "metadata": {},
   "outputs": [],
   "source": [
    "hv.Points((pedSubHis[1][1:], np.log(pedSubHis[0])),label='no cm, no gain').options(width=750) *\\\n",
    "hv.Points((pedSubGainHis[1][1:], np.log(pedSubGainHis[0])),label='no cm') *\\\n",
    "hv.Points((cm6His[1][1:], np.log(cm6His[0])),label='cm6') *\\\n",
    "hv.Points((cm4His[1][1:], np.log(cm4His[0])),label='cm4')"
   ]
  },
  {
   "cell_type": "markdown",
   "id": "ab77f764",
   "metadata": {},
   "source": [
    "### zero-photon peak"
   ]
  },
  {
   "cell_type": "code",
   "execution_count": null,
   "id": "de434e8e",
   "metadata": {},
   "outputs": [],
   "source": [
    "hv.Curve((pedSubHis[1][:40], pedSubHis[0][:40]),label='no cm, no gain').options(width=750) *\\\n",
    "hv.Curve((pedSubGainHis[1][:40], pedSubGainHis[0][:40]),label='no cm') *\\\n",
    "hv.Curve((cm6His[1][:40], cm6His[0][:40]),label='cm6') *\\\n",
    "hv.Curve((cm4His[1][:40], cm4His[0][:40]),label='cm4')"
   ]
  },
  {
   "cell_type": "markdown",
   "id": "cb3a2ad5",
   "metadata": {},
   "source": [
    "### droplets: one-photon peak, linear scale"
   ]
  },
  {
   "cell_type": "code",
   "execution_count": null,
   "id": "6036ca69",
   "metadata": {},
   "outputs": [],
   "source": [
    "hv.Curve((adupHis[1][:250], adupHis[0][:250]),label='no cm, no gain').options(width=750) *\\\n",
    "hv.Curve((adupgHis[1][:250], adupgHis[0][:250]),label='no cm') *\\\n",
    "hv.Curve((adu6His[1][:250], adu6His[0][:250]),label='cm6') *\\\n",
    "hv.Curve((adu4His[1][:250], adu4His[0][:250]),label='cm4') "
   ]
  },
  {
   "cell_type": "markdown",
   "id": "d19f017e",
   "metadata": {},
   "source": [
    "### droplets: log scale"
   ]
  },
  {
   "cell_type": "code",
   "execution_count": null,
   "id": "5a79d4e7",
   "metadata": {},
   "outputs": [],
   "source": [
    "hv.Curve((adupHis[1][:-1], np.log(adupHis[0])),label='no cm, no gain').options(width=750) *\\\n",
    "hv.Curve((adupgHis[1][:-1], np.log(adupgHis[0])),label='no cm')*\\\n",
    "hv.Curve((adu6His[1][:-1], np.log(adu6His[0])),label='cm6') *\\\n",
    "hv.Curve((adu4His[1][:-1], np.log(adu4His[0])),label='cm4') "
   ]
  }
 ],
 "metadata": {
  "kernelspec": {
   "display_name": "Python 3 (ipykernel)",
   "language": "python",
   "name": "python3"
  },
  "language_info": {
   "codemirror_mode": {
    "name": "ipython",
    "version": 3
   },
   "file_extension": ".py",
   "mimetype": "text/x-python",
   "name": "python",
   "nbconvert_exporter": "python",
   "pygments_lexer": "ipython3",
   "version": "3.9.15"
  }
 },
 "nbformat": 4,
 "nbformat_minor": 5
}
