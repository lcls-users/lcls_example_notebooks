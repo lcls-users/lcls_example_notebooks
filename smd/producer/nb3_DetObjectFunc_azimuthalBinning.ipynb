{
 "cells": [
  {
   "cell_type": "code",
   "execution_count": null,
   "id": "0cd76591-a2c8-410e-a149-9cefbd65d90d",
   "metadata": {},
   "outputs": [],
   "source": [
    "import numpy as np\n",
    "import holoviews as hv\n",
    "hv.extension('bokeh')\n",
    "import panel as pn\n",
    "from tqdm import tqdm\n",
    "import h5py as h5\n",
    "from pathlib import Path\n",
    "import tables\n",
    "import sys\n",
    "from importlib import reload\n",
    "\n",
    "import psana as ps\n",
    "sys.path.append('/sdf/group/lcls/ds/tools/smalldata_tools/latest')\n",
    "from smalldata_tools.DetObject import DetObject, DetObjectFunc\n",
    "from smalldata_tools.ana_funcs.azimuthalBinning import azimuthalBinning\n",
    "\n",
    "from smalldata_tools.SmallDataUtils import setParameter, getUserData, getUserEnvData\n",
    "\n",
    "from smalldata_tools.utilities_plotting import hv_image_ctl\n",
    "from smalldata_tools.utilities_plotting import hv_image\n",
    "from smalldata_tools.utilities import image_from_dxy\n",
    "\n",
    "run = 320\n",
    "exp = 'xpptut15'\n",
    "\n",
    "dsname = 'exp={}:run={}'.format(exp,run,exp[:3],exp)\n",
    "ds = ps.MPIDataSource(dsname)"
   ]
  },
  {
   "cell_type": "markdown",
   "id": "eca4810f-30bc-491b-bb3a-23a3f4b58c03",
   "metadata": {},
   "source": [
    "# Set detObject and ana function\n",
    "\n",
    "This is where the detector and the analysis function are defined. Here we specify the 'LCLS' azimuthal averaging"
   ]
  },
  {
   "cell_type": "code",
   "execution_count": null,
   "id": "76497dd8-09f6-4e91-b471-93469a07ef93",
   "metadata": {},
   "outputs": [],
   "source": [
    "det = DetObject('cspad', ds.env(), int(run))\n",
    "\n",
    "func_dict = {}\n",
    "func_dict['eBeam'] = 9.8\n",
    "func_dict['qbin'] = 0.05\n",
    "func_dict['thresADU'] = 7\n",
    "#func_dict['thresADUhigh'] = 17.5\n",
    "func_dict['pPlane'] = 0\n",
    "func_dict['center'] = [87392.2, -10126.4]\n",
    "func_dict['dis_to_sam'] = 90.\n",
    "#func_dict['phiBins'] = 5\n",
    "    \n",
    "func = azimuthalBinning(**func_dict)\n",
    "\n",
    "# add function to detector pipeline\n",
    "det.addFunc(func)\n",
    "\n",
    "userDataCfg = det.params_as_dict()\n",
    "\n",
    "#run this on an event\n",
    "max_evt = 1\n",
    "ds.break_after(max_evt) # stop iteration after max_evt events (break statements do not work reliably with MPIDataSource).\n",
    "\n",
    "userDict = {}\n",
    "for nevt,evt in tqdm(enumerate(ds.events())):\n",
    "    det.getData(evt)\n",
    "        \n",
    "    det.processFuncs()\n",
    "    userDict[det._name]=getUserData(det)\n",
    "\n",
    "    print(userDict)"
   ]
  },
  {
   "cell_type": "markdown",
   "id": "dcab01c0",
   "metadata": {},
   "source": [
    "## Plot the detector data \n",
    "The <DetObject>.getData(evt) extracts the detector data from the event using the specified calibration settings and places it into the det.evt.dat object. This data then gets passed to the DetObjectFuncs, but you can also experiment writing your own code in the event loop after the getData call.If you feel you have a new function that could be of use for others (or just to you again when you return), please reach out to add it to smalldata_tools arsenal of supported functions! "
   ]
  },
  {
   "cell_type": "code",
   "execution_count": null,
   "id": "66b605db",
   "metadata": {},
   "outputs": [],
   "source": [
    "det_evt_thres = det.evt.dat.copy()\n",
    "thresADU = 7\n",
    "det_evt_thres[det.evt.dat<thresADU]=0 \n",
    "hv_image(image_from_dxy(det_evt_thres,userDataCfg['ix'],userDataCfg['iy']), imgLow=-3.5, imgHigh=170., cmap='viridis')"
   ]
  },
  {
   "cell_type": "code",
   "execution_count": null,
   "id": "70901ef4-8eec-459f-933c-5587be9685b9",
   "metadata": {},
   "outputs": [],
   "source": [
    "hv.Points((0.5*(userDataCfg['azav__azav_qbins'][:-1]+userDataCfg['azav__azav_qbins'][1:]),\\\n",
    "           userDict['cspad']['azav_azav'].sum(axis=0))).options(width=800)"
   ]
  },
  {
   "cell_type": "markdown",
   "id": "fbdd6a0c",
   "metadata": {},
   "source": [
    "# Getting the UserData to check the setup\n",
    "This is data that usually will be saved in the hdf5 file under UserDataCfg/<detname>/"
   ]
  },
  {
   "cell_type": "code",
   "execution_count": null,
   "id": "1d6fe899",
   "metadata": {},
   "outputs": [],
   "source": [
    "# look at the configuration data - first detector as in example 2\n",
    "x = userDataCfg['x']\n",
    "y = userDataCfg['y']\n",
    "\n",
    "maskImg = image_from_dxy(userDataCfg['cmask'].flatten(), userDataCfg['ix'].flatten(), userDataCfg['iy'].flatten())\n",
    "maskPlt = hv_image(maskImg, bounds=(x.min(), y.min(), x.max(), y.max()), cmap='viridis')\n",
    "\n",
    "# look at the configuration data - now data for the data reduction algorithm\n",
    "use_geomCorr = userDataCfg['azav__azav_geomCorr']\n",
    "geomCorr = userDataCfg['azav__azav_geom']\n",
    "\n",
    "use_polCorr = userDataCfg['azav__azav_polCorr']\n",
    "polCorr = userDataCfg['azav__azav_pol']\n",
    "\n",
    "geomImg = image_from_dxy(geomCorr, userDataCfg['ix'].flatten(), userDataCfg['iy'].flatten())\n",
    "geomPlt = hv_image(geomImg, bounds=(x.min(), y.min(), x.max(), y.max()), cmap='rainbow')\n",
    "\n",
    "polImg = image_from_dxy(polCorr, userDataCfg['ix'].flatten(), userDataCfg['iy'].flatten())\n",
    "polPlt = hv_image(polImg, bounds=(x.min(), y.min(), x.max(), y.max()), cmap='rainbow')\n",
    "\n",
    "idxImg = image_from_dxy(userDataCfg['azav__azav_Cake_idxs'], \n",
    "                        userDataCfg['ix'].flatten()[userDataCfg['cmask'].flatten()>0], \n",
    "                        userDataCfg['iy'].flatten()[userDataCfg['cmask'].flatten()>0])\n",
    "idxPlt = hv_image(idxImg, bounds=(x.min(), y.min(), x.max(), y.max()), cmap='glasbey')\n",
    "\n",
    "#assemble this into a tabbed plot\n",
    "tabs1 = pn.Tabs(idxPlt.options(title='Bin Index'), name='Bin Index')\n",
    "tabs = pn.Tabs(tabs1)\n",
    "tabs.append(pn.Tabs(maskPlt.options(title='Mask'), name='Mask'))\n",
    "tabs.append(pn.Tabs(geomPlt.options(title='Geometry Correction'),name='Geometry Correction'))\n",
    "tabs.append(pn.Tabs(polPlt.options(title='Polarization Correction'),name='Polarization Correction'))\n",
    "\n",
    "tabs"
   ]
  }
 ],
 "metadata": {
  "kernelspec": {
   "display_name": "Python 3 (ipykernel)",
   "language": "python",
   "name": "python3"
  },
  "language_info": {
   "codemirror_mode": {
    "name": "ipython",
    "version": 3
   },
   "file_extension": ".py",
   "mimetype": "text/x-python",
   "name": "python",
   "nbconvert_exporter": "python",
   "pygments_lexer": "ipython3",
   "version": "3.9.15"
  }
 },
 "nbformat": 4,
 "nbformat_minor": 5
}
